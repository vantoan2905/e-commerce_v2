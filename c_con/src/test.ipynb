{
 "cells": [
  {
   "cell_type": "code",
   "execution_count": 5,
   "metadata": {},
   "outputs": [
    {
     "name": "stdout",
     "output_type": "stream",
     "text": [
      "[(1, 'Dyer Row', 'https://placekitten.com/317/542', 'PSC 3660, Box 3582\\nAPO AP 93877', 'inactive', datetime.datetime(2025, 3, 10, 8, 34, 14, 989337)), (2, 'Russell Place', 'https://picsum.photos/532/650', 'PSC 5392, Box 5301\\nAPO AA 06588', 'active', datetime.datetime(2025, 3, 10, 8, 34, 14, 989337)), (3, 'Hernandez Plains', 'https://picsum.photos/460/645', '52995 Bryan Manor Apt. 724\\nVictorialand, WI 27554', 'active', datetime.datetime(2025, 3, 10, 8, 34, 14, 989337)), (4, 'Brandon Field', 'https://picsum.photos/607/288', 'PSC 5667, Box 8279\\nAPO AA 58360', 'active', datetime.datetime(2025, 3, 10, 8, 34, 14, 989337)), (5, 'Malone Centers', 'https://dummyimage.com/376x44', 'USNS Simmons\\nFPO AA 03730', 'inactive', datetime.datetime(2025, 3, 10, 8, 34, 14, 989337)), (6, 'Hannah Field', 'https://dummyimage.com/991x533', '936 Flynn Meadows\\nCarolynbury, KY 72399', 'inactive', datetime.datetime(2025, 3, 10, 8, 35, 7, 607949)), (7, 'Christopher Mountains', 'https://picsum.photos/672/712', '1052 Tanner Stream\\nMeyerberg, MS 88170', 'inactive', datetime.datetime(2025, 3, 10, 8, 35, 7, 607949)), (8, 'Holmes Ville', 'https://dummyimage.com/721x605', '25033 Christopher Drives\\nNew Debrafort, NC 12883', 'inactive', datetime.datetime(2025, 3, 10, 8, 35, 7, 607949)), (9, 'Kendra Tunnel', 'https://placekitten.com/539/999', '77932 Patty Village Apt. 281\\nWest Barry, LA 54900', 'active', datetime.datetime(2025, 3, 10, 8, 35, 7, 607949)), (10, 'Gerald Valley', 'https://dummyimage.com/164x147', '2567 Brown Rest Apt. 508\\nRamireztown, CO 15029', 'inactive', datetime.datetime(2025, 3, 10, 8, 35, 7, 607949))]\n",
      "[(1, 'tiffanybass', 'heidibrown@example.com', '39eac57e51e12f4e32965f0e478bc2debb750a2bc4088d3fa973ebf8b0cd1bd9', 'Ashlee Bishop', '303.964.3633', 'user', datetime.datetime(2025, 3, 10, 8, 34, 14, 993407)), (2, 'erin46', 'rnichols@example.com', 'f393c42e949221ec3f748b494bd2fdd3a6c616ef8e8cb4a8b44733cc9b7ab52f', 'Elizabeth Vazquez', '692-606-2896x24930', 'admin', datetime.datetime(2025, 3, 10, 8, 34, 14, 993407)), (3, 'willie00', 'bennettkyle@example.com', 'd745055cf63416e4367b09e4cdad94700e6353da43251b375ea5d40f23eaf450', 'Christina Hill', '+1-340-402-0830', 'admin', datetime.datetime(2025, 3, 10, 8, 34, 14, 993407)), (4, 'jennifer91', 'riosanna@example.org', '7cc094fc995324034e5b27d39626efcb57a7c310c7657ecde57f77460c92a131', 'Erin Swanson', '283-557-4443', 'user', datetime.datetime(2025, 3, 10, 8, 34, 14, 993407)), (5, 'carl85', 'susan90@example.com', '60262eb9f074a92579a8e211913ffa0703ca37cfd782cac1f2d64d036f6494e8', 'Brian Decker', '+1-670-658-0833', 'admin', datetime.datetime(2025, 3, 10, 8, 34, 14, 993407)), (6, 'arios', 'seanrobinson@example.com', '99981b451a9a0316771a5f3db15acdd5dff513ab2e275c143c37e57e5275b7b0', 'Martha Ramirez', '001-340-468-1521x3596', 'user', datetime.datetime(2025, 3, 10, 8, 34, 14, 993407)), (7, 'johnsonmark', 'phyllisstephens@example.org', 'd87903af9c0b661bed72bef1cc72203cb579fb0b43a5e151d0ae4890a9b06a14', 'Stephen Martin', '345-357-7659x164', 'user', datetime.datetime(2025, 3, 10, 8, 34, 14, 993407)), (8, 'michelleburnett', 'darrellrhodes@example.com', '6165d35a5be9ac9c5fe7b8385bdfffed93f310a28139f33e3d0413b392ea8556', 'Susan Miller', '(719)241-3243', 'admin', datetime.datetime(2025, 3, 10, 8, 34, 14, 993407)), (9, 'johnsonkathryn', 'wilsonkelsey@example.com', '14f1f3075330a41974a7fe9766b8359317501918dea2286efd62db80b6172869', 'Christopher Thomas', '(462)347-1138', 'admin', datetime.datetime(2025, 3, 10, 8, 34, 14, 993407)), (10, 'angelagreen', 'jeffrey77@example.net', 'c587f0bd9c3682c28a5820946f0f21382584aca6356b636fcd57e78ef9f17965', 'Willie Johnson', '001-420-727-4557x812', 'admin', datetime.datetime(2025, 3, 10, 8, 34, 14, 993407)), (11, 'brianrandall', 'dfrancis@example.com', 'f2e1916c98274b1016533a2fa05ef5f0c9d671847c3431eec035bfd8429e6482', 'James Luna', '738.832.8126x6079', 'user', datetime.datetime(2025, 3, 10, 8, 35, 7, 611017)), (12, 'penaronald', 'langanthony@example.org', 'f6256ba609e421239f6f1249b1bebc42327f1bae122cac0331eaefcd301ab1d1', 'Tonya Green', '+1-626-608-3547x86645', 'admin', datetime.datetime(2025, 3, 10, 8, 35, 7, 611017)), (13, 'jamieglover', 'juan67@example.com', '60c3b16aa7f5c93f815a7f49bd68941f87fd9c457fb64e9ddaf69a91ba7a7e63', 'Jason Velazquez', '(949)313-5387x30625', 'user', datetime.datetime(2025, 3, 10, 8, 35, 7, 611017)), (14, 'wardlance', 'jenniferschwartz@example.org', '780ef273af039038b57c27244aae01e419077cc659e6ae19ac43f7b5422c27c4', 'Angela Howell', '+1-245-231-4916', 'admin', datetime.datetime(2025, 3, 10, 8, 35, 7, 611017)), (15, 'stephen16', 'ssanchez@example.com', 'fb817c145d15eeddf4f760cb44ada3539057cafea950c3e9978254828bc3aecd', 'Rodney Johnson', '310.693.5830x6050', 'user', datetime.datetime(2025, 3, 10, 8, 35, 7, 611017)), (16, 'david27', 'econtreras@example.org', 'a4b7f771f53928d98bcb3e1ad541986c8712c88eee4da1d2166b05f0f5242dd0', 'Daniel Jacobs', '(474)787-7179', 'user', datetime.datetime(2025, 3, 10, 8, 35, 7, 611017)), (17, 'yramirez', 'debra87@example.com', 'a3622cf431aeba40ca63ef68d1d64000e48292b14e8cb96de21777b1f6519e7f', 'Matthew Moore', '001-861-456-1206x640', 'admin', datetime.datetime(2025, 3, 10, 8, 35, 7, 611017)), (18, 'smithpaul', 'todd99@example.net', 'ab9ccc1f3ee6fdcc8a56352b5dce3a73f8d44e19abc42d316dec54c8f9e7c5c6', 'John Williams', '8555643086', 'user', datetime.datetime(2025, 3, 10, 8, 35, 7, 611017)), (19, 'zblack', 'rachel30@example.com', 'f230de08620c874d98e49c90bca2bce4d80fc34f912448f5586b80a3988374a4', 'Andrew White', '(714)362-7085', 'user', datetime.datetime(2025, 3, 10, 8, 35, 7, 611017)), (20, 'moralesjulie', 'stacey54@example.net', '07ccef3f19de56f8415d35c736cc949d5ccc8b5b437cf90c2c568d82c2a1356c', 'Deborah Gutierrez', '808.223.0554x5618', 'user', datetime.datetime(2025, 3, 10, 8, 35, 7, 611017))]\n"
     ]
    }
   ],
   "source": [
    "from database.data_controller import DatabaseController\n",
    "\n",
    "db_controller = DatabaseController()\n",
    "\n",
    "\n",
    "user = db_controller.get_user_model()\n",
    "cameras = db_controller.get_camera_detail_model()\n",
    "print(cameras.get_all_cameras())\n",
    "print(user.get_all_users())"
   ]
  },
  {
   "cell_type": "code",
   "execution_count": null,
   "metadata": {},
   "outputs": [],
   "source": []
  }
 ],
 "metadata": {
  "kernelspec": {
   "display_name": "zifarm",
   "language": "python",
   "name": "python3"
  },
  "language_info": {
   "codemirror_mode": {
    "name": "ipython",
    "version": 3
   },
   "file_extension": ".py",
   "mimetype": "text/x-python",
   "name": "python",
   "nbconvert_exporter": "python",
   "pygments_lexer": "ipython3",
   "version": "3.10.16"
  }
 },
 "nbformat": 4,
 "nbformat_minor": 2
}
