{
 "cells": [
  {
   "cell_type": "code",
   "execution_count": 33,
   "metadata": {},
   "outputs": [],
   "source": [
    "import pandas as pd\n",
    "\n",
    "\n",
    "path_img_csv = r\"D:\\project\\ecommence\\e_server\\c_con\\static\\data\\fashion-dataset\\images.csv\"\n",
    "path_style_csv = r\"D:\\project\\ecommence\\e_server\\c_con\\static\\data\\fashion-dataset\\fashion-dataset\\styles.csv\"\n",
    "\n",
    "df_image = pd.read_csv(path_img_csv)\n",
    "df_stype_csv =  pd.read_csv(path_style_csv, encoding=\"utf-8\")\n",
    "df_products = pd.concat([df_image, df_stype_csv], axis=1)\n",
    "\n",
    "df_new = df_products[[\"id\",\"filename\", \"link\",\"gender\",\"masterCategory\",\"subCategory\",\"articleType\",\"baseColour\",\"season\",\"year\",\"usage\",\"productDisplayName\" ]]\n",
    "\n",
    "\n",
    "df_new.to_csv(\"df_product.csv\", index=False)"
   ]
  },
  {
   "cell_type": "code",
   "execution_count": null,
   "metadata": {},
   "outputs": [],
   "source": []
  }
 ],
 "metadata": {
  "kernelspec": {
   "display_name": "My_ai_env",
   "language": "python",
   "name": "python3"
  },
  "language_info": {
   "codemirror_mode": {
    "name": "ipython",
    "version": 3
   },
   "file_extension": ".py",
   "mimetype": "text/x-python",
   "name": "python",
   "nbconvert_exporter": "python",
   "pygments_lexer": "ipython3",
   "version": "3.10.16"
  }
 },
 "nbformat": 4,
 "nbformat_minor": 2
}
